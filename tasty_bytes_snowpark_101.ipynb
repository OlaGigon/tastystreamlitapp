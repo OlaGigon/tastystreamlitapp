{
 "cells": [
  {
   "attachments": {},
   "cell_type": "markdown",
   "id": "95254c0d",
   "metadata": {},
   "source": [
    "## Import Packages"
   ]
  },
  {
   "cell_type": "code",
   "execution_count": 1,
   "id": "967f031a",
   "metadata": {},
   "outputs": [],
   "source": [
    "# Import Python packages\n",
    "import pandas as pd\n",
    "import plotly.express as px\n",
    "import plotly.io as pio\n",
    "import json\n",
    "import sys\n",
    "import cachetools\n",
    "\n",
    "# Import Snowflake modules\n",
    "from snowflake.snowpark import Session\n",
    "import snowflake.snowpark.functions as F\n",
    "import snowflake.snowpark.types as T\n",
    "from snowflake.snowpark import Window"
   ]
  },
  {
   "attachments": {},
   "cell_type": "markdown",
   "id": "20c7ff92",
   "metadata": {},
   "source": [
    "## Connect to Snowflake"
   ]
  },
  {
   "cell_type": "code",
   "execution_count": 3,
   "id": "043e5b0e-c54c-4005-8d28-1e6d58cca9ea",
   "metadata": {},
   "outputs": [],
   "source": [
    "# Get account credentials from a json file\n",
    "with open(\"data_scientist_auth.json\") as f:\n",
    "    data = json.load(f)\n",
    "    username = data[\"username\"]\n",
    "    password = data[\"password\"]\n",
    "    account = data[\"account\"]\n",
    "\n",
    "# Specify connection parameters\n",
    "connection_parameters = {\n",
    "    \"account\": account,\n",
    "    \"user\": username,\n",
    "    \"password\": password,\n",
    "    \"role\": \"accountadmin\",\n",
    "    \"warehouse\": \"tasty_dsci_wh\",\n",
    "    \"database\": \"frostbyte_tasty_bytes_dev\",\n",
    "    \"schema\": \"analytics\",\n",
    "}\n",
    "\n",
    "# Create Snowpark session\n",
    "session = Session.builder.configs(connection_parameters).create()"
   ]
  },
  {
   "attachments": {},
   "cell_type": "markdown",
   "id": "c8cba29d",
   "metadata": {},
   "source": [
    "## Snowpark DataFrame\n"
   ]
  },
  {
   "cell_type": "code",
   "execution_count": 4,
   "id": "85142cce-9541-4808-979f-37bca023c74c",
   "metadata": {},
   "outputs": [],
   "source": [
    "snowpark_df = session.table(\"frostbyte_tasty_bytes_dev.analytics.shift_sales_v\")"
   ]
  },
  {
   "attachments": {},
   "cell_type": "markdown",
   "id": "385ed1ac",
   "metadata": {},
   "source": [
    "## Preview the Data"
   ]
  },
  {
   "cell_type": "code",
   "execution_count": 5,
   "id": "6625c889",
   "metadata": {},
   "outputs": [
    {
     "name": "stdout",
     "output_type": "stream",
     "text": [
      "-------------------------------------------------------------------------------------------------------------------------------------------------\n",
      "|\"LOCATION_ID\"  |\"CITY\"         |\"DATE\"      |\"SHIFT_SALES\"  |\"SHIFT\"  |\"MONTH\"  |\"DAY_OF_WEEK\"  |\"CITY_POPULATION\"  |\"LATITUDE\"  |\"LONGITUDE\"  |\n",
      "-------------------------------------------------------------------------------------------------------------------------------------------------\n",
      "|2574           |New York City  |2023-05-02  |NULL           |AM       |5        |2              |8804190            |40.731148   |-74.003081   |\n",
      "|2574           |New York City  |2023-05-05  |NULL           |AM       |5        |5              |8804190            |40.731148   |-74.003081   |\n",
      "|2574           |New York City  |2023-05-01  |NULL           |AM       |5        |1              |8804190            |40.731148   |-74.003081   |\n",
      "|2574           |New York City  |2023-05-07  |NULL           |AM       |5        |0              |8804190            |40.731148   |-74.003081   |\n",
      "|2574           |New York City  |2023-05-04  |NULL           |AM       |5        |4              |8804190            |40.731148   |-74.003081   |\n",
      "|2574           |New York City  |2023-05-03  |NULL           |AM       |5        |3              |8804190            |40.731148   |-74.003081   |\n",
      "|2574           |New York City  |2023-05-06  |NULL           |AM       |5        |6              |8804190            |40.731148   |-74.003081   |\n",
      "|6461           |Cairo          |2023-05-02  |NULL           |PM       |5        |2              |1010166            |30.041063   |31.207879    |\n",
      "|6461           |Cairo          |2023-05-05  |NULL           |PM       |5        |5              |1010166            |30.041063   |31.207879    |\n",
      "|6461           |Cairo          |2023-05-01  |NULL           |PM       |5        |1              |1010166            |30.041063   |31.207879    |\n",
      "-------------------------------------------------------------------------------------------------------------------------------------------------\n",
      "\n"
     ]
    }
   ],
   "source": [
    "snowpark_df.show()"
   ]
  },
  {
   "attachments": {},
   "cell_type": "markdown",
   "id": "4580e338",
   "metadata": {},
   "source": [
    "## Select, Filter, Sort"
   ]
  },
  {
   "cell_type": "code",
   "execution_count": 6,
   "id": "18b8ae27",
   "metadata": {},
   "outputs": [
    {
     "name": "stdout",
     "output_type": "stream",
     "text": [
      "--------------------------------------------------------------------\n",
      "|\"DATE\"      |\"SHIFT\"  |\"SHIFT_SALES\"  |\"LOCATION_ID\"  |\"CITY\"     |\n",
      "--------------------------------------------------------------------\n",
      "|2023-05-07  |PM       |NULL           |1135           |Vancouver  |\n",
      "|2023-05-07  |AM       |NULL           |1135           |Vancouver  |\n",
      "|2023-05-06  |PM       |NULL           |1135           |Vancouver  |\n",
      "|2023-05-06  |AM       |NULL           |1135           |Vancouver  |\n",
      "|2023-05-05  |PM       |NULL           |1135           |Vancouver  |\n",
      "|2023-05-05  |AM       |NULL           |1135           |Vancouver  |\n",
      "|2023-05-04  |PM       |NULL           |1135           |Vancouver  |\n",
      "|2023-05-04  |AM       |NULL           |1135           |Vancouver  |\n",
      "|2023-05-03  |PM       |NULL           |1135           |Vancouver  |\n",
      "|2023-05-03  |AM       |NULL           |1135           |Vancouver  |\n",
      "|2023-05-02  |PM       |NULL           |1135           |Vancouver  |\n",
      "|2023-05-02  |AM       |NULL           |1135           |Vancouver  |\n",
      "|2023-05-01  |PM       |NULL           |1135           |Vancouver  |\n",
      "|2023-05-01  |AM       |NULL           |1135           |Vancouver  |\n",
      "|2023-02-25  |AM       |304.5          |1135           |Vancouver  |\n",
      "|2023-02-10  |PM       |492.75         |1135           |Vancouver  |\n",
      "|2023-01-23  |PM       |199.91         |1135           |Vancouver  |\n",
      "|2023-01-22  |PM       |733.5          |1135           |Vancouver  |\n",
      "|2023-01-05  |AM       |238.5          |1135           |Vancouver  |\n",
      "|2022-11-24  |AM       |266.32         |1135           |Vancouver  |\n",
      "--------------------------------------------------------------------\n",
      "\n"
     ]
    }
   ],
   "source": [
    "# Select\n",
    "location_df = snowpark_df.select(\"date\", \"shift\", \"shift_sales\", \"location_id\", \"city\")\n",
    "\n",
    "# Filter\n",
    "location_df = location_df.filter(F.col(\"location_id\") == 1135)\n",
    "\n",
    "# Sort\n",
    "location_df = location_df.order_by([\"date\", \"shift\"], ascending=[0, 0])\n",
    "\n",
    "# Display\n",
    "location_df.show(n=20)"
   ]
  },
  {
   "attachments": {},
   "cell_type": "markdown",
   "id": "283cb5e6",
   "metadata": {},
   "source": [
    "## How many rows are in our data?"
   ]
  },
  {
   "cell_type": "code",
   "execution_count": 9,
   "id": "f8b98fe7",
   "metadata": {},
   "outputs": [
    {
     "data": {
      "text/plain": [
       "1938202"
      ]
     },
     "execution_count": 9,
     "metadata": {},
     "output_type": "execute_result"
    }
   ],
   "source": [
    "snowpark_df.count()"
   ]
  },
  {
   "attachments": {},
   "cell_type": "markdown",
   "id": "a7b90839",
   "metadata": {},
   "source": [
    "## Let's calculate some descriptive statistics."
   ]
  },
  {
   "cell_type": "code",
   "execution_count": 10,
   "id": "a9b0788a-b4e2-42af-bccf-c293558528a8",
   "metadata": {},
   "outputs": [
    {
     "data": {
      "text/html": [
       "<div>\n",
       "<style scoped>\n",
       "    .dataframe tbody tr th:only-of-type {\n",
       "        vertical-align: middle;\n",
       "    }\n",
       "\n",
       "    .dataframe tbody tr th {\n",
       "        vertical-align: top;\n",
       "    }\n",
       "\n",
       "    .dataframe thead th {\n",
       "        text-align: right;\n",
       "    }\n",
       "</style>\n",
       "<table border=\"1\" class=\"dataframe\">\n",
       "  <thead>\n",
       "    <tr style=\"text-align: right;\">\n",
       "      <th></th>\n",
       "      <th>SUMMARY</th>\n",
       "      <th>LOCATION_ID</th>\n",
       "      <th>CITY</th>\n",
       "      <th>SHIFT_SALES</th>\n",
       "      <th>SHIFT</th>\n",
       "      <th>MONTH</th>\n",
       "      <th>DAY_OF_WEEK</th>\n",
       "      <th>CITY_POPULATION</th>\n",
       "      <th>LATITUDE</th>\n",
       "      <th>LONGITUDE</th>\n",
       "    </tr>\n",
       "  </thead>\n",
       "  <tbody>\n",
       "    <tr>\n",
       "      <th>0</th>\n",
       "      <td>min</td>\n",
       "      <td>1.001000e+03</td>\n",
       "      <td>Barcelona</td>\n",
       "      <td>7.600000e-01</td>\n",
       "      <td>AM</td>\n",
       "      <td>1.000000e+00</td>\n",
       "      <td>0.000000e+00</td>\n",
       "      <td>1.056610e+05</td>\n",
       "      <td>-3.832745e+01</td>\n",
       "      <td>-1.232431e+02</td>\n",
       "    </tr>\n",
       "    <tr>\n",
       "      <th>1</th>\n",
       "      <td>max</td>\n",
       "      <td>1.551700e+04</td>\n",
       "      <td>Warsaw</td>\n",
       "      <td>4.785360e+03</td>\n",
       "      <td>PM</td>\n",
       "      <td>1.200000e+01</td>\n",
       "      <td>6.000000e+00</td>\n",
       "      <td>1.634983e+07</td>\n",
       "      <td>5.948668e+01</td>\n",
       "      <td>1.513234e+02</td>\n",
       "    </tr>\n",
       "    <tr>\n",
       "      <th>2</th>\n",
       "      <td>stddev</td>\n",
       "      <td>4.234979e+03</td>\n",
       "      <td>None</td>\n",
       "      <td>4.381358e+02</td>\n",
       "      <td>None</td>\n",
       "      <td>3.223800e+00</td>\n",
       "      <td>1.996656e+00</td>\n",
       "      <td>4.566943e+06</td>\n",
       "      <td>2.839821e+01</td>\n",
       "      <td>7.830981e+01</td>\n",
       "    </tr>\n",
       "    <tr>\n",
       "      <th>3</th>\n",
       "      <td>count</td>\n",
       "      <td>1.938202e+06</td>\n",
       "      <td>1938202</td>\n",
       "      <td>1.755096e+06</td>\n",
       "      <td>1938202</td>\n",
       "      <td>1.938202e+06</td>\n",
       "      <td>1.938202e+06</td>\n",
       "      <td>1.938202e+06</td>\n",
       "      <td>1.938202e+06</td>\n",
       "      <td>1.938202e+06</td>\n",
       "    </tr>\n",
       "    <tr>\n",
       "      <th>4</th>\n",
       "      <td>mean</td>\n",
       "      <td>8.119924e+03</td>\n",
       "      <td>None</td>\n",
       "      <td>6.092432e+02</td>\n",
       "      <td>None</td>\n",
       "      <td>6.169526e+00</td>\n",
       "      <td>3.000784e+00</td>\n",
       "      <td>4.325339e+06</td>\n",
       "      <td>3.168076e+01</td>\n",
       "      <td>-3.415415e+00</td>\n",
       "    </tr>\n",
       "  </tbody>\n",
       "</table>\n",
       "</div>"
      ],
      "text/plain": [
       "  SUMMARY   LOCATION_ID       CITY   SHIFT_SALES    SHIFT         MONTH  \\\n",
       "0     min  1.001000e+03  Barcelona  7.600000e-01       AM  1.000000e+00   \n",
       "1     max  1.551700e+04     Warsaw  4.785360e+03       PM  1.200000e+01   \n",
       "2  stddev  4.234979e+03       None  4.381358e+02     None  3.223800e+00   \n",
       "3   count  1.938202e+06    1938202  1.755096e+06  1938202  1.938202e+06   \n",
       "4    mean  8.119924e+03       None  6.092432e+02     None  6.169526e+00   \n",
       "\n",
       "    DAY_OF_WEEK  CITY_POPULATION      LATITUDE     LONGITUDE  \n",
       "0  0.000000e+00     1.056610e+05 -3.832745e+01 -1.232431e+02  \n",
       "1  6.000000e+00     1.634983e+07  5.948668e+01  1.513234e+02  \n",
       "2  1.996656e+00     4.566943e+06  2.839821e+01  7.830981e+01  \n",
       "3  1.938202e+06     1.938202e+06  1.938202e+06  1.938202e+06  \n",
       "4  3.000784e+00     4.325339e+06  3.168076e+01 -3.415415e+00  "
      ]
     },
     "execution_count": 10,
     "metadata": {},
     "output_type": "execute_result"
    }
   ],
   "source": [
    "snowpark_df.describe().to_pandas()"
   ]
  },
  {
   "attachments": {},
   "cell_type": "markdown",
   "id": "50c7ca73",
   "metadata": {},
   "source": [
    "## What are the numeric columns?"
   ]
  },
  {
   "cell_type": "code",
   "execution_count": 11,
   "id": "45ae745e",
   "metadata": {},
   "outputs": [
    {
     "data": {
      "text/plain": [
       "['LOCATION_ID',\n",
       " 'SHIFT_SALES',\n",
       " 'MONTH',\n",
       " 'DAY_OF_WEEK',\n",
       " 'CITY_POPULATION',\n",
       " 'LATITUDE',\n",
       " 'LONGITUDE']"
      ]
     },
     "execution_count": 11,
     "metadata": {},
     "output_type": "execute_result"
    }
   ],
   "source": [
    "# Define Snowflake numeric types\n",
    "numeric_types = [T.DecimalType, T.DoubleType, T.FloatType, T.IntegerType, T.LongType]\n",
    "\n",
    "# Get numeric columns\n",
    "numeric_columns = [col.name for col in snowpark_df.schema.fields if type(col.datatype) in numeric_types]\n",
    "numeric_columns"
   ]
  },
  {
   "attachments": {},
   "cell_type": "markdown",
   "id": "f0173f66",
   "metadata": {},
   "source": [
    "## What are the categorical columns?"
   ]
  },
  {
   "cell_type": "code",
   "execution_count": 12,
   "id": "51fe16c0",
   "metadata": {},
   "outputs": [
    {
     "data": {
      "text/plain": [
       "['CITY', 'SHIFT']"
      ]
     },
     "execution_count": 12,
     "metadata": {},
     "output_type": "execute_result"
    }
   ],
   "source": [
    "# Define Snowflake categorical types\n",
    "categorical_types = [T.StringType]\n",
    "\n",
    "# Get categorical columns\n",
    "categorical_columns = [col.name for col in snowpark_df.schema.fields if type(col.datatype) in categorical_types]\n",
    "categorical_columns"
   ]
  },
  {
   "attachments": {},
   "cell_type": "markdown",
   "id": "1cd5f178",
   "metadata": {},
   "source": [
    "## What are the average shift sales (USD) by city?"
   ]
  },
  {
   "cell_type": "code",
   "execution_count": 13,
   "id": "5fca1fe2",
   "metadata": {},
   "outputs": [
    {
     "data": {
      "text/plain": [
       "<Axes: ylabel='CITY'>"
      ]
     },
     "execution_count": 13,
     "metadata": {},
     "output_type": "execute_result"
    },
    {
     "data": {
      "image/png": "[encoded data removed]",
      "text/plain": [
       "<Figure size 640x480 with 1 Axes>"
      ]
     },
     "metadata": {},
     "output_type": "display_data"
    }
   ],
   "source": [
    "# Group by city and average shift sales\n",
    "analysis_df = snowpark_df.group_by(\"city\").agg(F.mean(\"shift_sales\").alias(\"avg_shift_sales\"))\n",
    "\n",
    "# Sort by average shift sales\n",
    "analysis_df = analysis_df.sort(\"avg_shift_sales\", ascending=True)\n",
    "\n",
    "# Pull to pandas and plot\n",
    "analysis_df.to_pandas().plot.barh(x=\"CITY\", y=\"AVG_SHIFT_SALES\")"
   ]
  },
  {
   "attachments": {},
   "cell_type": "markdown",
   "id": "41d30aca",
   "metadata": {},
   "source": [
    "## Test city: Vancouver, how many locations are there?"
   ]
  },
  {
   "cell_type": "code",
   "execution_count": 14,
   "id": "0ec48065",
   "metadata": {},
   "outputs": [
    {
     "name": "stdout",
     "output_type": "stream",
     "text": [
      "Vancouver location count: 435\n"
     ]
    }
   ],
   "source": [
    "# Filter to Vancouver\n",
    "analysis_df = snowpark_df.filter(F.col(\"city\") == \"Vancouver\")\n",
    "\n",
    "# Group by location and average shift sales\n",
    "analysis_df = analysis_df.group_by(\"location_id\").agg(F.mean(\"shift_sales\").alias(\"avg_shift_sales\"))\n",
    "\n",
    "# Get the location count\n",
    "print(\"Vancouver location count:\", analysis_df.count())"
   ]
  },
  {
   "attachments": {},
   "cell_type": "markdown",
   "id": "7e077500",
   "metadata": {},
   "source": [
    "## What is the distribution of average shift sales (USD) by location in Vancouver?"
   ]
  },
  {
   "cell_type": "code",
   "execution_count": 15,
   "id": "ee83a0a8",
   "metadata": {},
   "outputs": [
    {
     "data": {
      "image/png": "[encoded data removed]",
      "text/plain": [
       "<Figure size 640x480 with 1 Axes>"
      ]
     },
     "metadata": {},
     "output_type": "display_data"
    }
   ],
   "source": [
    "ax = analysis_df.to_pandas().hist(column=\"AVG_SHIFT_SALES\", bins=20)"
   ]
  },
  {
   "attachments": {},
   "cell_type": "markdown",
   "id": "4d66f82d",
   "metadata": {},
   "source": [
    "\n",
    "**All transformations for feature engineering in this notebook will be executed on Snowflake compute.**\n"
   ]
  },
  {
   "attachments": {},
   "cell_type": "markdown",
   "id": "ec9f7acb",
   "metadata": {},
   "source": [
    "## Create a Rolling Average Feature\n",
    "We will use a Snowflake window function to get a **rolling shift average by location** over time. Window functions allow us to aggregate on a \"moving\" group of rows.\n",
    "\n",
    "**Step 1. Create a Window**\n",
    "\n",
    "Our window will partition the data by location and shift. It will order rows by date. It will include all rows prior to the current date of the observation it is aggregating for."
   ]
  },
  {
   "cell_type": "code",
   "execution_count": 16,
   "id": "a3b2eec0-a63f-464e-9e2f-ca928c9ab0b3",
   "metadata": {},
   "outputs": [],
   "source": [
    "window_by_location_all_days = (\n",
    "    Window.partition_by(\"location_id\", \"shift\")\n",
    "    .order_by(\"date\")\n",
    "    .rows_between(Window.UNBOUNDED_PRECEDING, Window.CURRENT_ROW - 1)\n",
    ")"
   ]
  },
  {
   "attachments": {},
   "cell_type": "markdown",
   "id": "caf6e226",
   "metadata": {},
   "source": [
    "**Step 2. Aggregate across the Window**"
   ]
  },
  {
   "cell_type": "code",
   "execution_count": 17,
   "id": "123d4094-5cac-4c5b-bf2c-ac358d3b9ad7",
   "metadata": {},
   "outputs": [],
   "source": [
    "snowpark_df = snowpark_df.with_column(\n",
    "    \"avg_location_shift_sales\", \n",
    "    F.avg(\"shift_sales\").over(window_by_location_all_days)\n",
    ")"
   ]
  },
  {
   "attachments": {},
   "cell_type": "markdown",
   "id": "301447d0",
   "metadata": {},
   "source": [
    "## Impute Missing Values\n",
    "The rolling average feature we just created is missing if there are no prior shift sales at that location. We will replace those missing values with 0."
   ]
  },
  {
   "cell_type": "code",
   "execution_count": 18,
   "id": "ea56cbd6-797e-4d88-ad4d-526dc39a1e2c",
   "metadata": {},
   "outputs": [],
   "source": [
    "snowpark_df = snowpark_df.fillna(value=0, subset=[\"avg_location_shift_sales\"])"
   ]
  },
  {
   "attachments": {},
   "cell_type": "markdown",
   "id": "09f7b956",
   "metadata": {},
   "source": [
    "## Encode Categorical Columns\n",
    "Categorical columns need to be represented as numeric in our model. We will use binary encoding for the **shift** column by replacing:\n",
    "- \"AM\" with 1\n",
    "- \"PM\" with 0"
   ]
  },
  {
   "cell_type": "code",
   "execution_count": 19,
   "id": "5c1de475-5bdd-4628-a4cb-9cb79f994aa0",
   "metadata": {},
   "outputs": [],
   "source": [
    "snowpark_df = snowpark_df.with_column(\"shift\", F.iff(F.col(\"shift\") == \"AM\", 1, 0))"
   ]
  },
  {
   "attachments": {},
   "cell_type": "markdown",
   "id": "a2fb74af",
   "metadata": {},
   "source": [
    "## Filter to Historical Data\n",
    "Our data includes placeholders for future data with missing shift sales. The **future data** represents the next 7 days of shifts for all locations. The **historical data** has shift sales for all locations where a food truck parked during a shift. We will only use historical data when training our model and will filter out the dates where the **shift_sales** column is missing."
   ]
  },
  {
   "cell_type": "code",
   "execution_count": 20,
   "id": "28a4537b-5a1a-4a94-af4b-ab91bfa39222",
   "metadata": {},
   "outputs": [],
   "source": [
    "historical_snowpark_df = snowpark_df.filter(F.col(\"shift_sales\").is_not_null())"
   ]
  },
  {
   "attachments": {},
   "cell_type": "markdown",
   "id": "d026722c",
   "metadata": {},
   "source": [
    "## Drop Columns\n",
    "Drop ID columns that will not be used in the model."
   ]
  },
  {
   "cell_type": "code",
   "execution_count": 21,
   "id": "a20c05c5-fee7-466e-9707-47fab634f191",
   "metadata": {},
   "outputs": [],
   "source": [
    "historical_snowpark_df = historical_snowpark_df.drop(\"location_id\", \"city\", \"date\")"
   ]
  },
  {
   "attachments": {},
   "cell_type": "markdown",
   "id": "087cb29b",
   "metadata": {},
   "source": [
    "## Split Data into Training and Testing\n",
    "We will use 80% of the data for model training and 20% for testing.<br>"
   ]
  },
  {
   "cell_type": "code",
   "execution_count": 22,
   "id": "61a85e60-f9cc-4be3-828b-8989b886573c",
   "metadata": {},
   "outputs": [],
   "source": [
    "train_snowpark_df, test_snowpark_df = historical_snowpark_df.randomSplit([0.8, 0.2])"
   ]
  },
  {
   "attachments": {},
   "cell_type": "markdown",
   "id": "4b97e058",
   "metadata": {},
   "source": [
    "## Save Tables in Snowflake\n",
    "We will save our training and test datasets to the **analytics schema** in our Snowflake account.<br>"
   ]
  },
  {
   "cell_type": "code",
   "execution_count": 23,
   "id": "fe14603b-74ae-4932-b04a-47a7c7133305",
   "metadata": {},
   "outputs": [],
   "source": [
    "# Save training data\n",
    "train_snowpark_df.write.mode(\"overwrite\").save_as_table(\"frostbyte_tasty_bytes_dev.analytics.shift_sales_train\")\n",
    "\n",
    "# Save test data\n",
    "test_snowpark_df.write.mode(\"overwrite\").save_as_table(\"frostbyte_tasty_bytes_dev.analytics.shift_sales_test\")"
   ]
  },
  {
   "cell_type": "markdown",
   "id": "69b35c0e-be51-494c-9e97-dd3b31922677",
   "metadata": {},
   "source": [
    "## Training the model in Snowflake!"
   ]
  },
  {
   "attachments": {},
   "cell_type": "markdown",
   "id": "16e0c553",
   "metadata": {},
   "source": [
    "## Create a Stage\n",
    "We will use this stage to host user-defined functions, stored procedures, and model files on Snowflake."
   ]
  },
  {
   "cell_type": "code",
   "execution_count": 24,
   "id": "708586d6-9de4-400c-9259-17b8eee0ac29",
   "metadata": {},
   "outputs": [
    {
     "data": {
      "text/plain": [
       "[Row(status='Stage area MODEL_STAGE successfully created.')]"
      ]
     },
     "execution_count": 24,
     "metadata": {},
     "output_type": "execute_result"
    }
   ],
   "source": [
    "# Create stage\n",
    "session.sql(\"CREATE STAGE IF NOT EXISTS model_stage\").collect()"
   ]
  },
  {
   "attachments": {},
   "cell_type": "markdown",
   "id": "3a09a168",
   "metadata": {},
   "source": [
    "## Create a Stored Procedure for Model Training\n",
    "\n",
    "**Step 1. Create a Function for Training a Model**<br>\n",
    "This function trains a Scikit-learn linear regression model and saves the model to a stage. Linear regression finds a line that best fits the data points used in training. We then use that line as an estimation of where output values will be for future scenarios.\n",
    "\n",
    "Here, training will use historical shift sales and features in our data to predict future shift sales of locations where our food trucks can park.\n",
    "- **Inputs:** Training table name on Snowflake, feature column names, target column names, file name for the saved model\n",
    "- **Outputs:**  Feature weights of the trained model *(or feature contributions to the predicted value)*"
   ]
  },
  {
   "cell_type": "code",
   "execution_count": 25,
   "id": "b67050d8-772b-4c7f-bb8a-9d4f059093b9",
   "metadata": {},
   "outputs": [],
   "source": [
    "def train_linreg(\n",
    "    session: Session,\n",
    "    training_table: str,\n",
    "    feature_cols: list,\n",
    "    target_col: str,\n",
    "    model_name: str,\n",
    ") -> T.Variant:\n",
    "\n",
    "    # Import packages\n",
    "    from sklearn.linear_model import LinearRegression\n",
    "    from joblib import dump\n",
    "\n",
    "    # Get training data\n",
    "    df = session.table(training_table).to_pandas()\n",
    "\n",
    "    # Set inputs X and outputs y\n",
    "    X = df[feature_cols]\n",
    "    y = df[target_col]\n",
    "\n",
    "    # Train model\n",
    "    model = LinearRegression().fit(X, y)\n",
    "\n",
    "    # Get feature weights\n",
    "    feature_weights = pd.DataFrame({\"Feature\": model.feature_names_in_, \"Weight\": model.coef_}).to_dict()\n",
    "\n",
    "    # Save model\n",
    "    dump(model, \"/tmp/\" + model_name)\n",
    "    session.file.put(\n",
    "        \"/tmp/\" + model_name,\n",
    "        \"@MODEL_STAGE\",\n",
    "        auto_compress=False,\n",
    "        overwrite=True\n",
    "    )\n",
    "\n",
    "    # Return feature contributions\n",
    "    return feature_weights\n"
   ]
  },
  {
   "attachments": {},
   "cell_type": "markdown",
   "id": "ca234ccd",
   "metadata": {},
   "source": [
    "**Step 2. Register the Function on Snowflake**<br>\n",
    "To register the function on Snowflake as a stored procedure, specify what Python packages are required in the function. Here we specify:\n",
    "- Snowpark\n",
    "- Scikit-learn (for training our model)\n",
    "- Joblib (for creating a model file)"
   ]
  },
  {
   "cell_type": "code",
   "execution_count": 26,
   "id": "56bba033-1075-4ccd-965b-52a47ee0fcda",
   "metadata": {},
   "outputs": [],
   "source": [
    "train_linreg_snowflake = session.sproc.register(\n",
    "    func=train_linreg,\n",
    "    name=\"sproc_train_linreg\",\n",
    "    is_permanent=True,\n",
    "    replace=True,\n",
    "    stage_location=\"@MODEL_STAGE\",\n",
    "    packages=[\"snowflake-snowpark-python\", \"scikit-learn\", \"joblib\"]\n",
    ")\n"
   ]
  },
  {
   "attachments": {},
   "cell_type": "markdown",
   "id": "ea27bcec",
   "metadata": {},
   "source": [
    "## Model Training\n",
    "We will now train our model on Snowflake using our stored procedure. If more memory was required, a Snowpark Optimized Warehouse could be used. In this case, a standard Snowflake warehouse is sufficient.\n",
    "\n",
    "\n",
    "**Call the Training Stored Procedure** <br>\n",
    "We will call our stored procedure and specify our training table location, feature and target columns, and our saved model name. This will perform model training in Snowflake.<br>"
   ]
  },
  {
   "cell_type": "code",
   "execution_count": 27,
   "id": "6d977edf-4a6c-45f5-bf6b-099a4ca1943a",
   "metadata": {},
   "outputs": [],
   "source": [
    "# Specify inputs\n",
    "training_table = \"frostbyte_tasty_bytes_dev.analytics.shift_sales_train\"\n",
    "model_name = \"linreg_location_sales_model.sav\"\n",
    "feature_cols = [\n",
    "    \"MONTH\",\n",
    "    \"DAY_OF_WEEK\",\n",
    "    \"LATITUDE\",\n",
    "    \"LONGITUDE\",\n",
    "    \"CITY_POPULATION\",\n",
    "    \"AVG_LOCATION_SHIFT_SALES\",\n",
    "    \"SHIFT\",\n",
    "]\n",
    "target_col = \"SHIFT_SALES\"\n",
    "\n",
    "\n",
    "# Call the training stored procedure\n",
    "feature_contributions = train_linreg_snowflake(\n",
    "    session, training_table, feature_cols, target_col, model_name\n",
    ")"
   ]
  },
  {
   "attachments": {},
   "cell_type": "markdown",
   "id": "9a0c3e08",
   "metadata": {},
   "source": [
    "## Examine Feature Contributions\n",
    "Our stored procedure returns the feature contributions. Here we can see which features have the largest impact on shift sales predictions. The prediction provided by the linear regression model is a summation of the feature values multiplied by their respective weights (plus an additional bias term). We can see that people are hungrier in the afternoon!<br>\n",
    "**Value**: Training in a stored procedure isn't a black-box process. We can return the insight we need (in this case, the feature weights) or write to a table in Snowflake."
   ]
  },
  {
   "cell_type": "code",
   "execution_count": 28,
   "id": "37173b81-0a0a-4408-956d-16e0fddeea4e",
   "metadata": {},
   "outputs": [
    {
     "data": {
      "text/html": [
       "<div>\n",
       "<style scoped>\n",
       "    .dataframe tbody tr th:only-of-type {\n",
       "        vertical-align: middle;\n",
       "    }\n",
       "\n",
       "    .dataframe tbody tr th {\n",
       "        vertical-align: top;\n",
       "    }\n",
       "\n",
       "    .dataframe thead th {\n",
       "        text-align: right;\n",
       "    }\n",
       "</style>\n",
       "<table border=\"1\" class=\"dataframe\">\n",
       "  <thead>\n",
       "    <tr style=\"text-align: right;\">\n",
       "      <th></th>\n",
       "      <th>Feature</th>\n",
       "      <th>Weight</th>\n",
       "    </tr>\n",
       "  </thead>\n",
       "  <tbody>\n",
       "    <tr>\n",
       "      <th>6</th>\n",
       "      <td>SHIFT</td>\n",
       "      <td>-12.573654</td>\n",
       "    </tr>\n",
       "    <tr>\n",
       "      <th>0</th>\n",
       "      <td>MONTH</td>\n",
       "      <td>-7.820030</td>\n",
       "    </tr>\n",
       "    <tr>\n",
       "      <th>2</th>\n",
       "      <td>LATITUDE</td>\n",
       "      <td>-0.239778</td>\n",
       "    </tr>\n",
       "    <tr>\n",
       "      <th>4</th>\n",
       "      <td>CITY_POPULATION</td>\n",
       "      <td>0.000005</td>\n",
       "    </tr>\n",
       "    <tr>\n",
       "      <th>3</th>\n",
       "      <td>LONGITUDE</td>\n",
       "      <td>0.081510</td>\n",
       "    </tr>\n",
       "    <tr>\n",
       "      <th>5</th>\n",
       "      <td>AVG_LOCATION_SHIFT_SALES</td>\n",
       "      <td>1.097056</td>\n",
       "    </tr>\n",
       "    <tr>\n",
       "      <th>1</th>\n",
       "      <td>DAY_OF_WEEK</td>\n",
       "      <td>2.719052</td>\n",
       "    </tr>\n",
       "  </tbody>\n",
       "</table>\n",
       "</div>"
      ],
      "text/plain": [
       "                    Feature     Weight\n",
       "6                     SHIFT -12.573654\n",
       "0                     MONTH  -7.820030\n",
       "2                  LATITUDE  -0.239778\n",
       "4           CITY_POPULATION   0.000005\n",
       "3                 LONGITUDE   0.081510\n",
       "5  AVG_LOCATION_SHIFT_SALES   1.097056\n",
       "1               DAY_OF_WEEK   2.719052"
      ]
     },
     "execution_count": 28,
     "metadata": {},
     "output_type": "execute_result"
    }
   ],
   "source": [
    "pd.DataFrame(eval(feature_contributions)).sort_values(by=\"Weight\")"
   ]
  },
  {
   "attachments": {},
   "cell_type": "markdown",
   "id": "2cbfdd5c",
   "metadata": {},
   "source": [
    "## View the Saved Model\n",
    "Let's make sure our model is saved to the stage on Snowflake. We will list the files on the stage and see when they were last modified."
   ]
  },
  {
   "cell_type": "code",
   "execution_count": 29,
   "id": "bdade6c0-82d4-40d6-a647-331f9715d43e",
   "metadata": {},
   "outputs": [
    {
     "data": {
      "text/html": [
       "<div>\n",
       "<style scoped>\n",
       "    .dataframe tbody tr th:only-of-type {\n",
       "        vertical-align: middle;\n",
       "    }\n",
       "\n",
       "    .dataframe tbody tr th {\n",
       "        vertical-align: top;\n",
       "    }\n",
       "\n",
       "    .dataframe thead th {\n",
       "        text-align: right;\n",
       "    }\n",
       "</style>\n",
       "<table border=\"1\" class=\"dataframe\">\n",
       "  <thead>\n",
       "    <tr style=\"text-align: right;\">\n",
       "      <th></th>\n",
       "      <th>name</th>\n",
       "      <th>size</th>\n",
       "      <th>md5</th>\n",
       "      <th>last_modified</th>\n",
       "    </tr>\n",
       "  </thead>\n",
       "  <tbody>\n",
       "    <tr>\n",
       "      <th>0</th>\n",
       "      <td>model_stage/linreg_location_sales_model.sav</td>\n",
       "      <td>1072</td>\n",
       "      <td>207661d1ec506c9986d51ef3496e766f</td>\n",
       "      <td>Sat, 25 May 2024 18:22:35 GMT</td>\n",
       "    </tr>\n",
       "  </tbody>\n",
       "</table>\n",
       "</div>"
      ],
      "text/plain": [
       "                                          name  size  \\\n",
       "0  model_stage/linreg_location_sales_model.sav  1072   \n",
       "\n",
       "                                md5                  last_modified  \n",
       "0  207661d1ec506c9986d51ef3496e766f  Sat, 25 May 2024 18:22:35 GMT  "
      ]
     },
     "execution_count": 29,
     "metadata": {},
     "output_type": "execute_result"
    }
   ],
   "source": [
    "pd.DataFrame(session.sql(\"LIST @MODEL_STAGE\").collect())"
   ]
  },
  {
   "attachments": {},
   "cell_type": "markdown",
   "id": "5f5792ad",
   "metadata": {},
   "source": [
    "## Create a User-Defined Function for Model Inference\n"
   ]
  },
  {
   "cell_type": "code",
   "execution_count": 31,
   "id": "2c9ab313-edfd-4347-b6c6-99b3bbfc90db",
   "metadata": {},
   "outputs": [],
   "source": [
    "# Function to load the model from file and cache the result\n",
    "@cachetools.cached(cache={})\n",
    "def load_model(filename):\n",
    "    \n",
    "    # Import packages\n",
    "    import sys\n",
    "    import os\n",
    "    import joblib\n",
    "    \n",
    "    # Get the import directory where the model file is stored\n",
    "    import_dir = sys._xoptions.get(\"snowflake_import_directory\")\n",
    "    \n",
    "    # Get the import directory where the model file is stored\n",
    "    if import_dir:\n",
    "        with open(os.path.join(import_dir, filename), 'rb') as file:\n",
    "            m = joblib.load(file)\n",
    "            return m\n",
    "\n",
    "# Function to predict shift sales\n",
    "def linreg_predict_location_sales(X: pd.DataFrame) -> pd.Series:\n",
    "    \n",
    "    # Load the model\n",
    "    model = load_model(\"linreg_location_sales_model.sav\")\n",
    "\n",
    "    # Get predictions\n",
    "    predictions = model.predict(X)\n",
    "\n",
    "    # Return rounded predictions\n",
    "    return predictions.round(2)"
   ]
  },
  {
   "attachments": {},
   "cell_type": "markdown",
   "id": "75eff187",
   "metadata": {},
   "source": [
    "**Step 2. Register the Function on Snowflake**<br>\n",
    "To register the function on Snowflake as a user-defined function, we specify the Python packages required. Here we specify:\n",
    "- Scikit-learn (for making predictions)\n",
    "- Joblib (for loading the model from file)\n",
    "- Cachetools (for caching the loaded model)\n",
    "\n",
    "Additionally, we specify which files to import with the user-defined function. Here we specify our trained model file as an import.<br>"
   ]
  },
  {
   "cell_type": "code",
   "execution_count": 32,
   "id": "4295b62b",
   "metadata": {},
   "outputs": [
    {
     "data": {
      "text/plain": [
       "<snowflake.snowpark.udf.UserDefinedFunction at 0x16ca44dd0>"
      ]
     },
     "execution_count": 32,
     "metadata": {},
     "output_type": "execute_result"
    }
   ],
   "source": [
    "session.udf.register(\n",
    "    func=linreg_predict_location_sales,\n",
    "    name=\"udf_linreg_predict_location_sales\",\n",
    "    stage_location=\"@MODEL_STAGE\",\n",
    "    input_types=[T.FloatType()] * len(feature_cols),\n",
    "    return_type=T.FloatType(),\n",
    "    replace=True,\n",
    "    is_permanent=True,\n",
    "    imports=[\"@MODEL_STAGE/linreg_location_sales_model.sav\"],\n",
    "    packages=[\"scikit-learn\", \"joblib\", \"cachetools\"]\n",
    ")"
   ]
  },
  {
   "attachments": {},
   "cell_type": "markdown",
   "id": "a1ac1d15",
   "metadata": {},
   "source": [
    "## Predict!\n",
    "Now that our inference user-defined function is deployed, we can use it in Snowflake on our data to get shift sales predictions.\n",
    "\n",
    "**Scale Up Snowflake Compute**<br>\n",
    "We can perform distributed model inferencing across the nodes of our Snowflake warehouse by scaling up to a multi-node warehouse. By scaling up to a medium warehouse, the processing will distribute across all four warehouse nodes instead of using single-threaded execution on an x-small warehouse with 1 node. "
   ]
  },
  {
   "cell_type": "code",
   "execution_count": 33,
   "id": "8bfcd5bf",
   "metadata": {},
   "outputs": [
    {
     "data": {
      "text/plain": [
       "[Row(status='Statement executed successfully.')]"
      ]
     },
     "execution_count": 33,
     "metadata": {},
     "output_type": "execute_result"
    }
   ],
   "source": [
    "session.sql(\"ALTER WAREHOUSE tasty_dsci_wh SET WAREHOUSE_SIZE = MEDIUM\").collect()"
   ]
  },
  {
   "attachments": {},
   "cell_type": "markdown",
   "id": "4e157514",
   "metadata": {},
   "source": [
    "**Call the Inference Function**"
   ]
  },
  {
   "cell_type": "code",
   "execution_count": 34,
   "id": "f416e0c7",
   "metadata": {},
   "outputs": [
    {
     "name": "stdout",
     "output_type": "stream",
     "text": [
      "--------------------------------\n",
      "|\"SHIFT_SALES\"  |\"PREDICTION\"  |\n",
      "--------------------------------\n",
      "|76.34          |46.61         |\n",
      "|45.04          |104.18        |\n",
      "|84.34          |136.31        |\n",
      "|125.74         |129.66        |\n",
      "|62.44          |112.22        |\n",
      "|107.85         |72.17         |\n",
      "|188.95         |146.62        |\n",
      "|79.29          |151.59        |\n",
      "|89.63          |139.25        |\n",
      "|80.79          |123.17        |\n",
      "--------------------------------\n",
      "\n"
     ]
    }
   ],
   "source": [
    "train_pred = train_snowpark_df.select(\n",
    "    \"shift_sales\",\n",
    "    F.call_udf(\"udf_linreg_predict_location_sales\", [F.col(c) for c in feature_cols]).alias(\"prediction\")\n",
    ")\n",
    "train_pred.show()"
   ]
  },
  {
   "attachments": {},
   "cell_type": "markdown",
   "id": "5b7032e8",
   "metadata": {},
   "source": [
    "## Evaluate\n",
    "We will evaluate our model using Root-Mean-Square Error (RMSE) for both our training and test data. We will get predictions with our user-defined function and compare them to the actual historical shift sales."
   ]
  },
  {
   "cell_type": "code",
   "execution_count": 35,
   "id": "548e87c4",
   "metadata": {},
   "outputs": [
    {
     "name": "stdout",
     "output_type": "stream",
     "text": [
      "Training data RMSE: 267\n",
      "Test data RMSE: 267\n"
     ]
    }
   ],
   "source": [
    "# Train evalutation RMSE\n",
    "rmse_train = train_pred.select(F.sqrt(F.mean((F.col(\"shift_sales\") \n",
    "                                              - F.col(\"prediction\"))**2)))\n",
    "\n",
    "print(\"Training data RMSE:\", round(rmse_train.collect()[0][0]))\n",
    "\n",
    "# Test evaluation RMSE\n",
    "rmse_test = test_snowpark_df.select(F.sqrt(F.mean((F.col(\"shift_sales\") \n",
    "                                                   - F.call_udf(\"udf_linreg_predict_location_sales\",\n",
    "                                                                [F.col(c) for c in feature_cols]))**2)))\n",
    "\n",
    "print(\"Test data RMSE:\", round(rmse_test.collect()[0][0]))"
   ]
  },
  {
   "attachments": {},
   "cell_type": "markdown",
   "id": "4d702b52",
   "metadata": {},
   "source": [
    "## Predict Location Sales for the Next Shift\n",
    "We will filter to the morning shift of the first future date in our data and Vancouver locations. We then call our inference user-defined function to get predicted shift sales at each location."
   ]
  },
  {
   "cell_type": "code",
   "execution_count": 36,
   "id": "87855df9",
   "metadata": {},
   "outputs": [],
   "source": [
    "# Get the date to predict\n",
    "date_tomorrow = snowpark_df.filter(F.col(\"shift_sales\").is_null()).select(F.min(\"date\")).collect()[0][0]\n",
    "# Filter to tomorrow's date and the morning shift in Vancouver\n",
    "location_predictions_df = snowpark_df.filter((F.col(\"date\") == date_tomorrow) \n",
    "                                             & (F.col(\"shift\") == 1) \n",
    "                                             & (F.col(\"city\")==\"Vancouver\"))\n",
    "\n",
    "# Get predictions\n",
    "location_predictions_df = location_predictions_df.select(\n",
    "    \"location_id\", \n",
    "    \"latitude\", \n",
    "    \"longitude\",\n",
    "    F.call_udf(\"udf_linreg_predict_location_sales\", [F.col(c) for c in feature_cols]).alias(\"predicted_shift_sales\")\n",
    ")"
   ]
  }
 ],
 "metadata": {
  "kernelspec": {
   "display_name": "Python 3 (ipykernel)",
   "language": "python",
   "name": "python3"
  },
  "language_info": {
   "codemirror_mode": {
    "name": "ipython",
    "version": 3
   },
   "file_extension": ".py",
   "mimetype": "text/x-python",
   "name": "python",
   "nbconvert_exporter": "python",
   "pygments_lexer": "ipython3",
   "version": "3.11.7"
  },
  "vscode": {
   "interpreter": {
    "hash": "87393b85a9e84f5acf85b4897642fb1f420cfcaf148d9618810d560b47e94533"
   }
  }
 },
 "nbformat": 4,
 "nbformat_minor": 5
}
